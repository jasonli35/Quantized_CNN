{
 "cells": [
  {
   "cell_type": "code",
   "execution_count": 1,
   "id": "bc8ab2ac-5f87-4893-81e1-68a040f9dfed",
   "metadata": {},
   "outputs": [
    {
     "name": "stdout",
     "output_type": "stream",
     "text": [
      "=> Building model...\n",
      "Files already downloaded and verified\n",
      "Files already downloaded and verified\n"
     ]
    }
   ],
   "source": [
    "from models import *\n",
    "from utilities import Utilities as helper\n",
    "from utilities import AverageMeter\n",
    "from data_loader import trainloader\n",
    "from data_loader import testloader\n"
   ]
  },
  {
   "cell_type": "code",
   "execution_count": 2,
   "id": "3f327283-c254-483b-a294-e753535dd866",
   "metadata": {},
   "outputs": [],
   "source": [
    "vgg_model = VGG16().cuda()\n",
    "# pre_best_prec = 0"
   ]
  },
  {
   "cell_type": "code",
   "execution_count": null,
   "id": "cc853afb-8517-44ec-a1ed-3909e565be2c",
   "metadata": {},
   "outputs": [],
   "source": [
    "lr = 4e-3\n",
    "weight_decay = 1e-4\n",
    "epochs = 10\n",
    "criterion = nn.CrossEntropyLoss().cuda()\n",
    "\n",
    "vgg_optimizer = torch.optim.SGD(vgg_model.parameters(), lr=lr, momentum=0.9, weight_decay=weight_decay)\n",
    "pre_best_prec = helper.train_model(vgg_model, model_name = \"vgg\", optimizer = vgg_optimizer, trainloader=trainloader, testloader=testloader, criterion=criterion, epochs=epochs, pre_best_prec=pre_best_prec)"
   ]
  },
  {
   "cell_type": "code",
   "execution_count": 3,
   "id": "532e1196-a487-438f-8b5b-6196850621f6",
   "metadata": {},
   "outputs": [
    {
     "name": "stdout",
     "output_type": "stream",
     "text": [
      "Test: [0/79]\tTime 0.397 (0.397)\tLoss 0.3243 (0.3243)\tPrec 92.188% (92.188%)\n",
      " * Prec 90.260% \n"
     ]
    }
   ],
   "source": [
    "from saveOutput import SaveOutput\n",
    "# vgg_first_block = next(vgg_model.modules()).features\n",
    "# vgg_save_output = SaveOutput()\n",
    "# SaveOutput.hook(vgg_first_block, torch.nn.Conv2d, vgg_save_output)\n",
    "helper.test_model(vgg_model, \"vgg\", testloader)"
   ]
  },
  {
   "cell_type": "code",
   "execution_count": 4,
   "id": "648a958a",
   "metadata": {},
   "outputs": [
    {
     "data": {
      "text/plain": [
       "tensor(327.6638, device='cuda:0', grad_fn=<SumBackward0>)"
      ]
     },
     "execution_count": 4,
     "metadata": {},
     "output_type": "execute_result"
    }
   ],
   "source": [
    "vgg_model.features[0].weight.abs().sum()"
   ]
  },
  {
   "cell_type": "code",
   "execution_count": null,
   "id": "9ea90ff7-b0a7-4c60-bc5c-293b2191ad73",
   "metadata": {},
   "outputs": [],
   "source": [
    "# input_tensor = vgg_save_output.outputs[0][0]\n",
    "# expect_out_tensor = vgg_save_output.outputs[1][0]\n",
    "\n",
    "# con_lay = vgg_first_block[0]\n",
    "# b_norm = vgg_first_block[1]\n",
    "# relu = nn.ReLU(inplace=True).cuda()\n",
    "\n",
    "# my_output = relu(b_norm(con_lay(input_tensor)))\n",
    "# error = (my_output - expect_out_tensor).sum()\n",
    "# error\n"
   ]
  },
  {
   "cell_type": "code",
   "execution_count": 5,
   "id": "f7a20b60",
   "metadata": {},
   "outputs": [],
   "source": [
    "cus_loss_model = VGG16().cuda()"
   ]
  },
  {
   "cell_type": "code",
   "execution_count": null,
   "id": "93c2e76e",
   "metadata": {},
   "outputs": [],
   "source": [
    "lr = 4e-2\n",
    "weight_decay = 1e-4\n",
    "epochs = 10\n",
    "criterion = nn.CrossEntropyLoss().cuda()\n",
    "cus_loss_optimizer = torch.optim.SGD(cus_loss_model.parameters(), lr=lr, momentum=0.9, weight_decay=weight_decay)\n"
   ]
  },
  {
   "cell_type": "code",
   "execution_count": 8,
   "id": "c7860acc",
   "metadata": {},
   "outputs": [],
   "source": [
    "pre_best_prec = 0\n",
    "\n",
    "pretune_cl_model_name = \"vgg_cus_loss_bf_tune\""
   ]
  },
  {
   "cell_type": "code",
   "execution_count": null,
   "id": "220e8e7a-ef82-4c28-af85-880a2593a887",
   "metadata": {},
   "outputs": [],
   "source": [
    "\n",
    "helper.train_model(cus_loss_model, model_name = pretune_cl_model_name, optimizer = cus_loss_optimizer, trainloader=trainloader, testloader=testloader, criterion=criterion, epochs=epochs, pre_best_prec=pre_best_prec, reg_alpha = 0.5)"
   ]
  },
  {
   "cell_type": "code",
   "execution_count": 9,
   "id": "72fe39cf",
   "metadata": {},
   "outputs": [
    {
     "name": "stdout",
     "output_type": "stream",
     "text": [
      "Test: [0/79]\tTime 0.208 (0.208)\tLoss 0.4128 (0.4128)\tPrec 86.719% (86.719%)\n",
      " * Prec 80.210% \n"
     ]
    }
   ],
   "source": [
    "helper.test_model(cus_loss_model, pretune_cl_model_name, testloader)"
   ]
  },
  {
   "cell_type": "code",
   "execution_count": 10,
   "id": "1cf6276b",
   "metadata": {},
   "outputs": [
    {
     "data": {
      "text/plain": [
       "tensor(315.9730, device='cuda:0', grad_fn=<SumBackward0>)"
      ]
     },
     "execution_count": 10,
     "metadata": {},
     "output_type": "execute_result"
    }
   ],
   "source": [
    "cus_loss_model.features[0].weight.abs().sum()"
   ]
  },
  {
   "cell_type": "code",
   "execution_count": 11,
   "id": "7abcbed0",
   "metadata": {},
   "outputs": [],
   "source": [
    "cus_loss_model_name = \"vgg_cus_loss\""
   ]
  },
  {
   "cell_type": "code",
   "execution_count": null,
   "id": "1ff145b5",
   "metadata": {},
   "outputs": [],
   "source": [
    "lr = 4e-2\n",
    "weight_decay = 1e-4\n",
    "\n",
    "epochs = 100\n",
    "helper.train_model(cus_loss_model, model_name = cus_loss_model_name, optimizer = cus_loss_optimizer, trainloader=trainloader, testloader=testloader, criterion=criterion, epochs=epochs, pre_best_prec=pre_best_prec, reg_alpha = 0.6)"
   ]
  },
  {
   "cell_type": "code",
   "execution_count": 12,
   "id": "7488ca98",
   "metadata": {},
   "outputs": [
    {
     "name": "stdout",
     "output_type": "stream",
     "text": [
      "Test: [0/79]\tTime 0.251 (0.251)\tLoss 0.4430 (0.4430)\tPrec 85.938% (85.938%)\n",
      " * Prec 83.970% \n"
     ]
    }
   ],
   "source": [
    "helper.test_model(cus_loss_model, cus_loss_model_name, testloader)"
   ]
  },
  {
   "cell_type": "code",
   "execution_count": 13,
   "id": "0e9388b9",
   "metadata": {},
   "outputs": [
    {
     "data": {
      "text/plain": [
       "tensor(321.1955, device='cuda:0', grad_fn=<SumBackward0>)"
      ]
     },
     "execution_count": 13,
     "metadata": {},
     "output_type": "execute_result"
    }
   ],
   "source": [
    "cus_loss_model.features[0].weight.abs().sum()"
   ]
  },
  {
   "cell_type": "code",
   "execution_count": null,
   "id": "0e0c737c",
   "metadata": {},
   "outputs": [],
   "source": []
  }
 ],
 "metadata": {
  "kernelspec": {
   "display_name": "Python 3 (ipykernel)",
   "language": "python",
   "name": "python3"
  },
  "language_info": {
   "codemirror_mode": {
    "name": "ipython",
    "version": 3
   },
   "file_extension": ".py",
   "mimetype": "text/x-python",
   "name": "python",
   "nbconvert_exporter": "python",
   "pygments_lexer": "ipython3",
   "version": "3.9.5"
  }
 },
 "nbformat": 4,
 "nbformat_minor": 5
}
